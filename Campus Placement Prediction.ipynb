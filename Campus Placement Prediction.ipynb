{
 "cells": [
  {
   "cell_type": "code",
   "execution_count": 1,
   "id": "8da071d8",
   "metadata": {},
   "outputs": [],
   "source": [
    "# Import necessary libraries\n",
    "import pandas as pd\n",
    "import numpy as np\n",
    "from sklearn.model_selection import train_test_split, cross_val_score, GridSearchCV\n",
    "from sklearn.preprocessing import StandardScaler, LabelEncoder\n",
    "from sklearn.metrics import accuracy_score, precision_score, recall_score, roc_auc_score, confusion_matrix, classification_report, roc_curve, auc\n",
    "from sklearn.linear_model import LogisticRegression\n",
    "from sklearn.ensemble import RandomForestClassifier\n",
    "from sklearn.svm import SVC\n",
    "import matplotlib.pyplot as plt\n",
    "import seaborn as sns"
   ]
  },
  {
   "cell_type": "code",
   "execution_count": 2,
   "id": "16758820",
   "metadata": {},
   "outputs": [],
   "source": [
    "# Load the dataset\n",
    "train_data = pd.read_csv('train.csv')"
   ]
  },
  {
   "cell_type": "code",
   "execution_count": 3,
   "id": "9b920543",
   "metadata": {},
   "outputs": [
    {
     "name": "stdout",
     "output_type": "stream",
     "text": [
      "   sl_no  gender  ssc_p    ssc_b  hsc_p    hsc_b     hsc_s  degree_p  \\\n",
      "0      1       0  67.00   Others  91.00   Others  Commerce     58.00   \n",
      "1      2       0  79.33  Central  78.33   Others   Science     77.48   \n",
      "2      3       0  65.00  Central  68.00  Central      Arts     64.00   \n",
      "3      4       0  56.00  Central  52.00  Central   Science     52.00   \n",
      "4      5       0  85.80  Central  73.60  Central  Commerce     73.30   \n",
      "\n",
      "    degree_t workex  etest_p specialisation  mba_p      status    salary  \n",
      "0   Sci&Tech     No     55.0         Mkt&HR  58.80      Placed  270000.0  \n",
      "1   Sci&Tech    Yes     86.5        Mkt&Fin  66.28      Placed  200000.0  \n",
      "2  Comm&Mgmt     No     75.0        Mkt&Fin  57.80      Placed  250000.0  \n",
      "3   Sci&Tech     No     66.0         Mkt&HR  59.43  Not Placed       NaN  \n",
      "4  Comm&Mgmt     No     96.8        Mkt&Fin  55.50      Placed  425000.0  \n"
     ]
    }
   ],
   "source": [
    "# Display first few rows of the dataset\n",
    "print(train_data.head())"
   ]
  },
  {
   "cell_type": "code",
   "execution_count": 4,
   "id": "8e771b18",
   "metadata": {},
   "outputs": [
    {
     "name": "stderr",
     "output_type": "stream",
     "text": [
      "C:\\Users\\MD AAMIR AHMED\\AppData\\Local\\Temp\\ipykernel_17372\\2751522415.py:2: FutureWarning: Dropping of nuisance columns in DataFrame reductions (with 'numeric_only=None') is deprecated; in a future version this will raise TypeError.  Select only valid columns before calling the reduction.\n",
      "  data = train_data.fillna(train_data.mean())\n"
     ]
    }
   ],
   "source": [
    "# Preprocessing: Handle missing values (if any)\n",
    "data = train_data.fillna(train_data.mean())"
   ]
  },
  {
   "cell_type": "code",
   "execution_count": 5,
   "id": "7541e58c",
   "metadata": {},
   "outputs": [],
   "source": [
    "# Encoding categorical variables (Gender, Status, etc.)\n",
    "le = LabelEncoder()\n",
    "data['gender'] = le.fit_transform(data['gender'])  # Encode gender\n",
    "data['ssc_b'] = le.fit_transform(data['ssc_b'])    # Encode SSC board\n",
    "data['hsc_b'] = le.fit_transform(data['hsc_b'])    # Encode HSC board\n",
    "data['hsc_s'] = le.fit_transform(data['hsc_s'])    # Encode HSC stream\n",
    "data['degree_t'] = le.fit_transform(data['degree_t'])  # Encode degree type\n",
    "data['specialisation'] = le.fit_transform(data['specialisation'])  # Encode MBA specialisation\n",
    "data['status'] = le.fit_transform(data['status'])  # Encode placement status (target variable)"
   ]
  },
  {
   "cell_type": "code",
   "execution_count": 6,
   "id": "4cc84aa1",
   "metadata": {},
   "outputs": [],
   "source": [
    "# For simplicity, we'll encode all object columns\n",
    "categorical_columns = data.select_dtypes(include=['object']).columns\n",
    "le = LabelEncoder()\n",
    "\n",
    "for col in categorical_columns:\n",
    "    data[col] = le.fit_transform(data[col].astype(str))  # Convert all object types to string and then label encode"
   ]
  },
  {
   "cell_type": "code",
   "execution_count": 7,
   "id": "bee7c2aa",
   "metadata": {},
   "outputs": [],
   "source": [
    "# Define features and target variable\n",
    "X = data.drop(['sl_no', 'salary', 'status'], axis=1)  # Features (excluding salary, sl_no, and status)\n",
    "y = data['status']  # Target variable (Placed/Not Placed)"
   ]
  },
  {
   "cell_type": "code",
   "execution_count": 8,
   "id": "4d2be99c",
   "metadata": {},
   "outputs": [],
   "source": [
    "# Split the data into training and testing sets (80% train, 20% test)\n",
    "X_train, X_test, y_train, y_test = train_test_split(X, y, test_size=0.2, random_state=42)"
   ]
  },
  {
   "cell_type": "code",
   "execution_count": 9,
   "id": "ac99aee3",
   "metadata": {},
   "outputs": [],
   "source": [
    "# Normalize the features (standardization)\n",
    "scaler = StandardScaler()\n",
    "X_train = scaler.fit_transform(X_train)\n",
    "X_test = scaler.transform(X_test)"
   ]
  },
  {
   "cell_type": "code",
   "execution_count": 10,
   "id": "af54c351",
   "metadata": {},
   "outputs": [],
   "source": [
    "# Initialize models\n",
    "logreg = LogisticRegression(random_state=42)\n",
    "rf = RandomForestClassifier(random_state=42)\n",
    "svm = SVC(probability=True, random_state=42)"
   ]
  },
  {
   "cell_type": "code",
   "execution_count": 11,
   "id": "cf9e523c",
   "metadata": {},
   "outputs": [],
   "source": [
    "# Train Logistic Regression\n",
    "logreg.fit(X_train, y_train)\n",
    "logreg_pred = logreg.predict(X_test)"
   ]
  },
  {
   "cell_type": "code",
   "execution_count": 12,
   "id": "c7186f42",
   "metadata": {},
   "outputs": [],
   "source": [
    "# Train Random Forest\n",
    "rf.fit(X_train, y_train)\n",
    "rf_pred = rf.predict(X_test)"
   ]
  },
  {
   "cell_type": "code",
   "execution_count": 13,
   "id": "1747f5a5",
   "metadata": {},
   "outputs": [],
   "source": [
    "# Train Support Vector Machine\n",
    "svm.fit(X_train, y_train)\n",
    "svm_pred = svm.predict(X_test)"
   ]
  },
  {
   "cell_type": "code",
   "execution_count": 14,
   "id": "5822b747",
   "metadata": {},
   "outputs": [],
   "source": [
    "# Evaluate models\n",
    "def evaluate_model(model_name, y_true, y_pred):\n",
    "    print(f\"Model: {model_name}\")\n",
    "    print(f\"Accuracy: {accuracy_score(y_true, y_pred)}\")\n",
    "    print(f\"Precision: {precision_score(y_true, y_pred)}\")\n",
    "    print(f\"Recall: {recall_score(y_true, y_pred)}\")\n",
    "    print(f\"Classification Report:\\n{classification_report(y_true, y_pred)}\")\n",
    "    print(f\"Confusion Matrix:\\n{confusion_matrix(y_true, y_pred)}\")\n",
    "    print(\"-\" * 50)"
   ]
  },
  {
   "cell_type": "code",
   "execution_count": 15,
   "id": "ca8cfdfe",
   "metadata": {},
   "outputs": [
    {
     "name": "stdout",
     "output_type": "stream",
     "text": [
      "Model: Logistic Regression\n",
      "Accuracy: 0.855072463768116\n",
      "Precision: 0.84\n",
      "Recall: 0.9545454545454546\n",
      "Classification Report:\n",
      "              precision    recall  f1-score   support\n",
      "\n",
      "           0       0.89      0.68      0.77        25\n",
      "           1       0.84      0.95      0.89        44\n",
      "\n",
      "    accuracy                           0.86        69\n",
      "   macro avg       0.87      0.82      0.83        69\n",
      "weighted avg       0.86      0.86      0.85        69\n",
      "\n",
      "Confusion Matrix:\n",
      "[[17  8]\n",
      " [ 2 42]]\n",
      "--------------------------------------------------\n",
      "Model: Random Forest\n",
      "Accuracy: 0.8405797101449275\n",
      "Precision: 0.8235294117647058\n",
      "Recall: 0.9545454545454546\n",
      "Classification Report:\n",
      "              precision    recall  f1-score   support\n",
      "\n",
      "           0       0.89      0.64      0.74        25\n",
      "           1       0.82      0.95      0.88        44\n",
      "\n",
      "    accuracy                           0.84        69\n",
      "   macro avg       0.86      0.80      0.81        69\n",
      "weighted avg       0.85      0.84      0.83        69\n",
      "\n",
      "Confusion Matrix:\n",
      "[[16  9]\n",
      " [ 2 42]]\n",
      "--------------------------------------------------\n",
      "Model: SVM\n",
      "Accuracy: 0.855072463768116\n",
      "Precision: 0.8269230769230769\n",
      "Recall: 0.9772727272727273\n",
      "Classification Report:\n",
      "              precision    recall  f1-score   support\n",
      "\n",
      "           0       0.94      0.64      0.76        25\n",
      "           1       0.83      0.98      0.90        44\n",
      "\n",
      "    accuracy                           0.86        69\n",
      "   macro avg       0.88      0.81      0.83        69\n",
      "weighted avg       0.87      0.86      0.85        69\n",
      "\n",
      "Confusion Matrix:\n",
      "[[16  9]\n",
      " [ 1 43]]\n",
      "--------------------------------------------------\n"
     ]
    }
   ],
   "source": [
    "# Evaluate each model\n",
    "evaluate_model(\"Logistic Regression\", y_test, logreg_pred)\n",
    "evaluate_model(\"Random Forest\", y_test, rf_pred)\n",
    "evaluate_model(\"SVM\", y_test, svm_pred)"
   ]
  },
  {
   "cell_type": "code",
   "execution_count": 16,
   "id": "4dee09d8",
   "metadata": {},
   "outputs": [
    {
     "name": "stdout",
     "output_type": "stream",
     "text": [
      "Logistic Regression - Cross-validation Accuracy: 0.9271\n",
      "Random Forest - Cross-validation Accuracy: 0.9090\n",
      "SVM - Cross-validation Accuracy: 0.9015\n"
     ]
    }
   ],
   "source": [
    "# Model comparison using cross-validation\n",
    "models = [('Logistic Regression', logreg), ('Random Forest', rf), ('SVM', svm)]\n",
    "for name, model in models:\n",
    "    scores = cross_val_score(model, X_train, y_train, cv=5, scoring='accuracy')\n",
    "    print(f\"{name} - Cross-validation Accuracy: {np.mean(scores):.4f}\")"
   ]
  },
  {
   "cell_type": "code",
   "execution_count": 17,
   "id": "194e26ab",
   "metadata": {},
   "outputs": [
    {
     "data": {
      "image/png": "[encoded data removed]",
      "text/plain": [
       "<Figure size 720x504 with 1 Axes>"
      ]
     },
     "metadata": {
      "needs_background": "light"
     },
     "output_type": "display_data"
    }
   ],
   "source": [
    "# Plot ROC curve for each model\n",
    "plt.figure(figsize=(10, 7))\n",
    "for model, name in zip([logreg, rf, svm], [\"Logistic Regression\", \"Random Forest\", \"SVM\"]):\n",
    "    y_pred_proba = model.predict_proba(X_test)[:, 1]\n",
    "    fpr, tpr, thresholds = roc_curve(y_test, y_pred_proba)\n",
    "    roc_auc = auc(fpr, tpr)\n",
    "    plt.plot(fpr, tpr, label=f'{name} (AUC = {roc_auc:.2f})')\n",
    "\n",
    "plt.plot([0, 1], [0, 1], color='navy', linestyle='--')\n",
    "plt.xlim([0.0, 1.0])\n",
    "plt.ylim([0.0, 1.05])\n",
    "plt.xlabel('False Positive Rate')\n",
    "plt.ylabel('True Positive Rate')\n",
    "plt.title('ROC Curve')\n",
    "plt.legend(loc=\"lower right\")\n",
    "plt.show()"
   ]
  },
  {
   "cell_type": "code",
   "execution_count": 18,
   "id": "c0a16973",
   "metadata": {},
   "outputs": [
    {
     "data": {
      "text/plain": [
       "GridSearchCV(cv=5, estimator=RandomForestClassifier(random_state=42),\n",
       "             param_grid={'max_depth': [None, 10, 20, 30],\n",
       "                         'n_estimators': [50, 100, 200]},\n",
       "             scoring='accuracy')"
      ]
     },
     "execution_count": 18,
     "metadata": {},
     "output_type": "execute_result"
    }
   ],
   "source": [
    "# Hyperparameter tuning for Random Forest (as an example)\n",
    "param_grid = {'n_estimators': [50, 100, 200], 'max_depth': [None, 10, 20, 30]}\n",
    "grid_search = GridSearchCV(rf, param_grid, cv=5, scoring='accuracy')\n",
    "grid_search.fit(X_train, y_train)"
   ]
  },
  {
   "cell_type": "code",
   "execution_count": 19,
   "id": "51059f82",
   "metadata": {},
   "outputs": [
    {
     "name": "stdout",
     "output_type": "stream",
     "text": [
      "Best parameters for Random Forest: {'max_depth': None, 'n_estimators': 200}\n"
     ]
    }
   ],
   "source": [
    "# Best parameters from GridSearch\n",
    "print(\"Best parameters for Random Forest:\", grid_search.best_params_)"
   ]
  },
  {
   "cell_type": "code",
   "execution_count": 20,
   "id": "c62d5fc7",
   "metadata": {},
   "outputs": [],
   "source": [
    "# Train the model with best parameters\n",
    "best_rf = grid_search.best_estimator_\n",
    "best_rf.fit(X_train, y_train)\n",
    "best_rf_pred = best_rf.predict(X_test)"
   ]
  },
  {
   "cell_type": "code",
   "execution_count": 21,
   "id": "2085ae99",
   "metadata": {},
   "outputs": [
    {
     "name": "stdout",
     "output_type": "stream",
     "text": [
      "Model: Tuned Random Forest\n",
      "Accuracy: 0.855072463768116\n",
      "Precision: 0.84\n",
      "Recall: 0.9545454545454546\n",
      "Classification Report:\n",
      "              precision    recall  f1-score   support\n",
      "\n",
      "           0       0.89      0.68      0.77        25\n",
      "           1       0.84      0.95      0.89        44\n",
      "\n",
      "    accuracy                           0.86        69\n",
      "   macro avg       0.87      0.82      0.83        69\n",
      "weighted avg       0.86      0.86      0.85        69\n",
      "\n",
      "Confusion Matrix:\n",
      "[[17  8]\n",
      " [ 2 42]]\n",
      "--------------------------------------------------\n"
     ]
    }
   ],
   "source": [
    "# Evaluate the tuned Random Forest model\n",
    "evaluate_model(\"Tuned Random Forest\", y_test, best_rf_pred)"
   ]
  },
  {
   "cell_type": "code",
   "execution_count": 22,
   "id": "586bd251",
   "metadata": {},
   "outputs": [
    {
     "data": {
      "image/png": "[encoded data removed]",
      "text/plain": [
       "<Figure size 432x288 with 1 Axes>"
      ]
     },
     "metadata": {
      "needs_background": "light"
     },
     "output_type": "display_data"
    }
   ],
   "source": [
    "# Get the predicted probabilities for the positive class\n",
    "y_score = svm.decision_function(X_test)  # use decision_function for SVM\n",
    "\n",
    "# Compute ROC curve and ROC area\n",
    "fpr, tpr, thresholds = roc_curve(y_test, y_score)\n",
    "roc_auc = auc(fpr, tpr)\n",
    "\n",
    "# Plotting the ROC curve\n",
    "plt.figure()\n",
    "plt.plot(fpr, tpr, color='darkorange', lw=2, label=f'ROC curve (area = {roc_auc:.2f})')\n",
    "plt.plot([0, 1], [0, 1], color='navy', lw=2, linestyle='--')  # Diagonal line\n",
    "plt.xlim([0.0, 1.0])\n",
    "plt.ylim([0.0, 1.05])\n",
    "plt.xlabel('False Positive Rate')\n",
    "plt.ylabel('True Positive Rate')\n",
    "plt.title('Receiver Operating Characteristic (ROC) Curve - SVM')\n",
    "plt.legend(loc=\"lower right\")\n",
    "plt.show()"
   ]
  },
  {
   "cell_type": "code",
   "execution_count": null,
   "id": "6c2f96c6",
   "metadata": {},
   "outputs": [],
   "source": []
  }
 ],
 "metadata": {
  "kernelspec": {
   "display_name": "Python 3 (ipykernel)",
   "language": "python",
   "name": "python3"
  },
  "language_info": {
   "codemirror_mode": {
    "name": "ipython",
    "version": 3
   },
   "file_extension": ".py",
   "mimetype": "text/x-python",
   "name": "python",
   "nbconvert_exporter": "python",
   "pygments_lexer": "ipython3",
   "version": "3.9.12"
  }
 },
 "nbformat": 4,
 "nbformat_minor": 5
}
